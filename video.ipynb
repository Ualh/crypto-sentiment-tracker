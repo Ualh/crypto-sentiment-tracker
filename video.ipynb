{
 "cells": [
  {
   "cell_type": "code",
   "execution_count": 2,
   "metadata": {},
   "outputs": [
    {
     "name": "stderr",
     "output_type": "stream",
     "text": [
      "c:\\Users\\UrsHu\\Pillars\\Learn\\Academic\\Master\\Semestre 2\\data analysis\\crypto-sentiment-tracker\\venv\\Lib\\site-packages\\tqdm\\auto.py:21: TqdmWarning: IProgress not found. Please update jupyter and ipywidgets. See https://ipywidgets.readthedocs.io/en/stable/user_install.html\n",
      "  from .autonotebook import tqdm as notebook_tqdm\n"
     ]
    },
    {
     "data": {
      "text/plain": [
       "True"
      ]
     },
     "execution_count": 2,
     "metadata": {},
     "output_type": "execute_result"
    }
   ],
   "source": [
    "from datetime import datetime, timedelta\n",
    "import time\n",
    "import requests\n",
    "from dotenv import load_dotenv\n",
    "import os\n",
    "import pandas as pd\n",
    "from bs4 import BeautifulSoup\n",
    "import matplotlib.pyplot as plt\n",
    "import seaborn as sns\n",
    "import statsmodels.api as sm\n",
    "import numpy as np\n",
    "from sklearn.ensemble import RandomForestRegressor\n",
    "from sklearn.metrics import r2_score, mean_squared_error\n",
    "\n",
    "from handlers import DataHandler\n",
    "from news_api import NewsAPI\n",
    "from useconomyapi import USEconomyAPI\n",
    "from seekingalpha import SeekingAlphaNewsAPI\n",
    "from visualizations import Visualizations\n",
    "from cryptopanic import CryptoPanicAPI\n",
    "from cryptonewsapi import CryptoNewsAPI\n",
    "from coinrankingapi import CryptoDataFetcher\n",
    "from sentiment import SentimentAnalyzer\n",
    "\n",
    "hd = DataHandler()\n",
    "vz = Visualizations()\n",
    "load_dotenv()"
   ]
  },
  {
   "cell_type": "code",
   "execution_count": 5,
   "metadata": {},
   "outputs": [
    {
     "data": {
      "text/html": [
       "<div>\n",
       "<style scoped>\n",
       "    .dataframe tbody tr th:only-of-type {\n",
       "        vertical-align: middle;\n",
       "    }\n",
       "\n",
       "    .dataframe tbody tr th {\n",
       "        vertical-align: top;\n",
       "    }\n",
       "\n",
       "    .dataframe thead th {\n",
       "        text-align: right;\n",
       "    }\n",
       "</style>\n",
       "<table border=\"1\" class=\"dataframe\">\n",
       "  <thead>\n",
       "    <tr style=\"text-align: right;\">\n",
       "      <th></th>\n",
       "      <th>date</th>\n",
       "      <th>headline</th>\n",
       "      <th>description</th>\n",
       "    </tr>\n",
       "  </thead>\n",
       "  <tbody>\n",
       "    <tr>\n",
       "      <th>0</th>\n",
       "      <td>2023-12-19 06:40:41</td>\n",
       "      <td>Grayscale CEO Calls for Simultaneous Approval ...</td>\n",
       "      <td>Grayscale CEO Michael Sonnenshein believes the...</td>\n",
       "    </tr>\n",
       "    <tr>\n",
       "      <th>1</th>\n",
       "      <td>2023-12-19 06:03:24</td>\n",
       "      <td>Indian Government is Actively Collaborating Wi...</td>\n",
       "      <td>In an exclusive interview with CryptoNews, Man...</td>\n",
       "    </tr>\n",
       "    <tr>\n",
       "      <th>2</th>\n",
       "      <td>2023-12-19 05:55:14</td>\n",
       "      <td>Judge Approves Settlement: Binance to Pay $1.5...</td>\n",
       "      <td>According to the Federal Court ruling on Decem...</td>\n",
       "    </tr>\n",
       "    <tr>\n",
       "      <th>3</th>\n",
       "      <td>2023-12-19 05:35:26</td>\n",
       "      <td>Why a gold rush for inscriptions has broken ha...</td>\n",
       "      <td>Some suggest EVM inscriptions are the latest w...</td>\n",
       "    </tr>\n",
       "    <tr>\n",
       "      <th>4</th>\n",
       "      <td>2023-12-19 05:31:08</td>\n",
       "      <td>‘Concerning precedent’ — bloXroute Labs' MEV r...</td>\n",
       "      <td>A decision by bloXroute Labs to start censorin...</td>\n",
       "    </tr>\n",
       "    <tr>\n",
       "      <th>...</th>\n",
       "      <td>...</td>\n",
       "      <td>...</td>\n",
       "      <td>...</td>\n",
       "    </tr>\n",
       "    <tr>\n",
       "      <th>31032</th>\n",
       "      <td>2021-10-27 15:17:00</td>\n",
       "      <td>Cream Finance Suffers Another Exploit as Attac...</td>\n",
       "      <td>Cream Finance (CREAM) suffered another flash l...</td>\n",
       "    </tr>\n",
       "    <tr>\n",
       "      <th>31033</th>\n",
       "      <td>2021-10-19 13:39:00</td>\n",
       "      <td>French Central Bank's Blockchain Bond Trial Br...</td>\n",
       "      <td>Banque de France disclosed the results of its ...</td>\n",
       "    </tr>\n",
       "    <tr>\n",
       "      <th>31034</th>\n",
       "      <td>2021-10-18 13:58:00</td>\n",
       "      <td>Facebook To Add 10,000 Jobs In EU For Metavers...</td>\n",
       "      <td>Advancing its project to become \\x9caÂ\\xa0meta...</td>\n",
       "    </tr>\n",
       "    <tr>\n",
       "      <th>31035</th>\n",
       "      <td>2021-10-15 00:00:00</td>\n",
       "      <td>Tech Crackdown Hasn't Halted Chinese Firms' Bl...</td>\n",
       "      <td>Chinese companies are still topping the blockc...</td>\n",
       "    </tr>\n",
       "    <tr>\n",
       "      <th>31036</th>\n",
       "      <td>2021-10-12 20:00:00</td>\n",
       "      <td>Celo to Be Fastest EVM Chain by End of 2022, C...</td>\n",
       "      <td>Within a little more than a year, Celo aims to...</td>\n",
       "    </tr>\n",
       "  </tbody>\n",
       "</table>\n",
       "<p>31037 rows × 3 columns</p>\n",
       "</div>"
      ],
      "text/plain": [
       "                      date                                           headline  \\\n",
       "0      2023-12-19 06:40:41  Grayscale CEO Calls for Simultaneous Approval ...   \n",
       "1      2023-12-19 06:03:24  Indian Government is Actively Collaborating Wi...   \n",
       "2      2023-12-19 05:55:14  Judge Approves Settlement: Binance to Pay $1.5...   \n",
       "3      2023-12-19 05:35:26  Why a gold rush for inscriptions has broken ha...   \n",
       "4      2023-12-19 05:31:08  ‘Concerning precedent’ — bloXroute Labs' MEV r...   \n",
       "...                    ...                                                ...   \n",
       "31032  2021-10-27 15:17:00  Cream Finance Suffers Another Exploit as Attac...   \n",
       "31033  2021-10-19 13:39:00  French Central Bank's Blockchain Bond Trial Br...   \n",
       "31034  2021-10-18 13:58:00  Facebook To Add 10,000 Jobs In EU For Metavers...   \n",
       "31035  2021-10-15 00:00:00  Tech Crackdown Hasn't Halted Chinese Firms' Bl...   \n",
       "31036  2021-10-12 20:00:00  Celo to Be Fastest EVM Chain by End of 2022, C...   \n",
       "\n",
       "                                             description  \n",
       "0      Grayscale CEO Michael Sonnenshein believes the...  \n",
       "1      In an exclusive interview with CryptoNews, Man...  \n",
       "2      According to the Federal Court ruling on Decem...  \n",
       "3      Some suggest EVM inscriptions are the latest w...  \n",
       "4      A decision by bloXroute Labs to start censorin...  \n",
       "...                                                  ...  \n",
       "31032  Cream Finance (CREAM) suffered another flash l...  \n",
       "31033  Banque de France disclosed the results of its ...  \n",
       "31034  Advancing its project to become \\x9caÂ\\xa0meta...  \n",
       "31035  Chinese companies are still topping the blockc...  \n",
       "31036  Within a little more than a year, Celo aims to...  \n",
       "\n",
       "[31037 rows x 3 columns]"
      ]
     },
     "execution_count": 5,
     "metadata": {},
     "output_type": "execute_result"
    }
   ],
   "source": [
    "news_2023_df = pd.read_csv('data/ADA_df/2023_cryptonews.csv')\n",
    "# Creating the desired DataFrame format\n",
    "df = news_2023_df[['date', 'title', 'text']].rename(columns={'title': 'headline', 'text': 'description'})\n",
    "\n",
    "df.to_csv('data/ADA_df/testing_news_data.csv', index=False)\n",
    "\n",
    "df"
   ]
  },
  {
   "cell_type": "code",
   "execution_count": 6,
   "metadata": {},
   "outputs": [
    {
     "data": {
      "text/html": [
       "<div>\n",
       "<style scoped>\n",
       "    .dataframe tbody tr th:only-of-type {\n",
       "        vertical-align: middle;\n",
       "    }\n",
       "\n",
       "    .dataframe tbody tr th {\n",
       "        vertical-align: top;\n",
       "    }\n",
       "\n",
       "    .dataframe thead th {\n",
       "        text-align: right;\n",
       "    }\n",
       "</style>\n",
       "<table border=\"1\" class=\"dataframe\">\n",
       "  <thead>\n",
       "    <tr style=\"text-align: right;\">\n",
       "      <th></th>\n",
       "      <th>coin name</th>\n",
       "      <th>timestamp</th>\n",
       "      <th>price</th>\n",
       "    </tr>\n",
       "  </thead>\n",
       "  <tbody>\n",
       "    <tr>\n",
       "      <th>0</th>\n",
       "      <td>BTCUSDT</td>\n",
       "      <td>1697749200</td>\n",
       "      <td>28713.71</td>\n",
       "    </tr>\n",
       "    <tr>\n",
       "      <th>1</th>\n",
       "      <td>BTCUSDT</td>\n",
       "      <td>1697745600</td>\n",
       "      <td>28649.65</td>\n",
       "    </tr>\n",
       "    <tr>\n",
       "      <th>2</th>\n",
       "      <td>BTCUSDT</td>\n",
       "      <td>1697742000</td>\n",
       "      <td>28604.09</td>\n",
       "    </tr>\n",
       "    <tr>\n",
       "      <th>3</th>\n",
       "      <td>BTCUSDT</td>\n",
       "      <td>1697738400</td>\n",
       "      <td>28715.38</td>\n",
       "    </tr>\n",
       "    <tr>\n",
       "      <th>4</th>\n",
       "      <td>BTCUSDT</td>\n",
       "      <td>1697734800</td>\n",
       "      <td>28750.75</td>\n",
       "    </tr>\n",
       "  </tbody>\n",
       "</table>\n",
       "</div>"
      ],
      "text/plain": [
       "  coin name   timestamp     price\n",
       "0   BTCUSDT  1697749200  28713.71\n",
       "1   BTCUSDT  1697745600  28649.65\n",
       "2   BTCUSDT  1697742000  28604.09\n",
       "3   BTCUSDT  1697738400  28715.38\n",
       "4   BTCUSDT  1697734800  28750.75"
      ]
     },
     "execution_count": 6,
     "metadata": {},
     "output_type": "execute_result"
    }
   ],
   "source": [
    "price_data = pd.read_csv('data/ADA_df/Binance_BTCUSDT_1h (1).csv')\n",
    "price_data['Date'] = price_data['Date'].str.split('.').str[0]\n",
    "# Convert 'Date' column to datetime\n",
    "price_data['Date'] = pd.to_datetime(price_data['Date'])\n",
    "# Convert datetime to Unix timestamp\n",
    "price_data['timestamp'] = price_data['Date'].apply(lambda x: int(datetime.timestamp(x)))\n",
    "# Select and rename columns\n",
    "price_data = price_data[['Symbol', 'timestamp', 'Close']]\n",
    "price_data.columns = ['coin name', 'timestamp', 'price']\n",
    "df.to_csv('data/ADA_df/testing_price_data.csv', index=False)\n",
    "price_data.head()\n"
   ]
  },
  {
   "cell_type": "code",
   "execution_count": 7,
   "metadata": {},
   "outputs": [],
   "source": [
    "analyzer = SentimentAnalyzer()\n",
    "sentiment_data = analyzer.add_sentiments_to_df(df)\n",
    "sentiment_data.head()\n",
    "df.to_csv('data/ADA_df/testing_news_with_sentiment_data.csv', index=False)"
   ]
  },
  {
   "cell_type": "code",
   "execution_count": 3,
   "metadata": {},
   "outputs": [],
   "source": [
    "from_date = 0\n",
    "end = hd.get_date_str(174)\n",
    "start = 0"
   ]
  },
  {
   "cell_type": "code",
   "execution_count": 8,
   "metadata": {},
   "outputs": [
    {
     "ename": "TypeError",
     "evalue": "Visualizations.average_sentiment_per_time() takes from 3 to 4 positional arguments but 5 were given",
     "output_type": "error",
     "traceback": [
      "\u001b[1;31m---------------------------------------------------------------------------\u001b[0m",
      "\u001b[1;31mTypeError\u001b[0m                                 Traceback (most recent call last)",
      "Cell \u001b[1;32mIn[8], line 1\u001b[0m\n\u001b[1;32m----> 1\u001b[0m sentiment_data \u001b[38;5;241m=\u001b[39m \u001b[43mvz\u001b[49m\u001b[38;5;241;43m.\u001b[39;49m\u001b[43maverage_sentiment_per_time\u001b[49m\u001b[43m(\u001b[49m\u001b[43mfrom_date\u001b[49m\u001b[43m,\u001b[49m\u001b[43msentiment_data\u001b[49m\u001b[43m,\u001b[49m\u001b[43m \u001b[49m\u001b[43mend\u001b[49m\u001b[43m,\u001b[49m\u001b[43m \u001b[49m\u001b[43mstart\u001b[49m\u001b[43m)\u001b[49m\n\u001b[0;32m      2\u001b[0m price_data \u001b[38;5;241m=\u001b[39m vz\u001b[38;5;241m.\u001b[39mnormalize_and_aggregate_prices(price_data)\n\u001b[0;32m      3\u001b[0m plot \u001b[38;5;241m=\u001b[39m vz\u001b[38;5;241m.\u001b[39mplot_normalized_price_and_sentiment(price_data, sentiment_data)\n",
      "\u001b[1;31mTypeError\u001b[0m: Visualizations.average_sentiment_per_time() takes from 3 to 4 positional arguments but 5 were given"
     ]
    }
   ],
   "source": [
    "sentiment_data = vz.average_sentiment_per_time(from_date,sentiment_data, end, start)\n",
    "price_data = vz.normalize_and_aggregate_prices(price_data)\n",
    "plot = vz.plot_normalized_price_and_sentiment(price_data, sentiment_data)"
   ]
  }
 ],
 "metadata": {
  "kernelspec": {
   "display_name": "venv",
   "language": "python",
   "name": "python3"
  },
  "language_info": {
   "codemirror_mode": {
    "name": "ipython",
    "version": 3
   },
   "file_extension": ".py",
   "mimetype": "text/x-python",
   "name": "python",
   "nbconvert_exporter": "python",
   "pygments_lexer": "ipython3",
   "version": "3.12.3"
  }
 },
 "nbformat": 4,
 "nbformat_minor": 2
}
