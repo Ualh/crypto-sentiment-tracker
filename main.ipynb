{
 "cells": [
  {
   "cell_type": "code",
   "execution_count": 11,
   "metadata": {},
   "outputs": [
    {
     "name": "stdout",
     "output_type": "stream",
     "text": [
      "Packages to check: ['requests', 'aiohttp', 'pandas', 'tweepy', 'praw', 'ccxt', 'transformers', 'vaderSentiment', 'textblob', 'flask', 'plotly', 'beautifulsoup4']\n",
      "requests is already installed.\n",
      "aiohttp is already installed.\n",
      "pandas is already installed.\n",
      "tweepy is already installed.\n",
      "praw is already installed.\n",
      "ccxt is already installed.\n"
     ]
    },
    {
     "name": "stderr",
     "output_type": "stream",
     "text": [
      "c:\\Users\\UrsHu\\Pillars\\Learn\\Academic\\Master\\Semestre 2\\data analysis\\crypto-sentiment-tracker\\venv\\Lib\\site-packages\\tqdm\\auto.py:21: TqdmWarning: IProgress not found. Please update jupyter and ipywidgets. See https://ipywidgets.readthedocs.io/en/stable/user_install.html\n",
      "  from .autonotebook import tqdm as notebook_tqdm\n",
      "None of PyTorch, TensorFlow >= 2.0, or Flax have been found. Models won't be available and only tokenizers, configuration and file/data utilities can be used.\n"
     ]
    },
    {
     "name": "stdout",
     "output_type": "stream",
     "text": [
      "transformers is already installed.\n",
      "vaderSentiment is already installed.\n",
      "textblob is already installed.\n",
      "flask is already installed.\n",
      "plotly is already installed.\n",
      "beautifulsoup4 is not installed. Installing...\n",
      "beautifulsoup4 has been installed.\n"
     ]
    }
   ],
   "source": [
    "import subprocess\n",
    "# Check if packages are installed\n",
    "def check_packages():\n",
    "    try:\n",
    "        with open('requirements.txt', 'r') as file:\n",
    "            packages = file.read().splitlines()\n",
    "            print(f\"Packages to check: {packages}\")  # Debug print\n",
    "            for package in packages:\n",
    "                try:\n",
    "                    __import__(package)\n",
    "                    print(f\"{package} is already installed.\")\n",
    "                except ImportError:\n",
    "                    print(f\"{package} is not installed. Installing...\")\n",
    "                    subprocess.check_call(['pip', 'install', package])\n",
    "                    print(f\"{package} has been installed.\")\n",
    "    except Exception as e:\n",
    "        print(f\"An error occurred: {e}\")  # Print any other errors\n",
    "\n",
    "# Call the function to check and install packages\n",
    "check_packages()"
   ]
  },
  {
   "cell_type": "code",
   "execution_count": 13,
   "metadata": {},
   "outputs": [
    {
     "ename": "AttributeError",
     "evalue": "'NoneType' object has no attribute 'click'",
     "output_type": "error",
     "traceback": [
      "\u001b[1;31m---------------------------------------------------------------------------\u001b[0m",
      "\u001b[1;31mAttributeError\u001b[0m                            Traceback (most recent call last)",
      "Cell \u001b[1;32mIn[13], line 17\u001b[0m\n\u001b[0;32m     14\u001b[0m login_button \u001b[38;5;241m=\u001b[39m soup\u001b[38;5;241m.\u001b[39mfind(\u001b[38;5;124m'\u001b[39m\u001b[38;5;124ma\u001b[39m\u001b[38;5;124m'\u001b[39m, {\u001b[38;5;124m'\u001b[39m\u001b[38;5;124mhref\u001b[39m\u001b[38;5;124m'\u001b[39m: \u001b[38;5;124m'\u001b[39m\u001b[38;5;124m/login\u001b[39m\u001b[38;5;124m'\u001b[39m, \u001b[38;5;124m'\u001b[39m\u001b[38;5;124mrole\u001b[39m\u001b[38;5;124m'\u001b[39m: \u001b[38;5;124m'\u001b[39m\u001b[38;5;124mlink\u001b[39m\u001b[38;5;124m'\u001b[39m, \u001b[38;5;124m'\u001b[39m\u001b[38;5;124mclass\u001b[39m\u001b[38;5;124m'\u001b[39m: \u001b[38;5;124m'\u001b[39m\u001b[38;5;124mcss-175oi2r r-sdzlij r-1phboty r-rs99b7 r-lrvibr r-17w48nw r-a9p05 r-eu3ka r-5oul0u r-1ipicw7 r-2yi16 r-1qi8awa r-ymttw5 r-o7ynqc r-6416eg r-1ny4l3l r-1loqt21\u001b[39m\u001b[38;5;124m'\u001b[39m})\n\u001b[0;32m     16\u001b[0m \u001b[38;5;66;03m# Click on the login button\u001b[39;00m\n\u001b[1;32m---> 17\u001b[0m \u001b[43mlogin_button\u001b[49m\u001b[38;5;241;43m.\u001b[39;49m\u001b[43mclick\u001b[49m()\n",
      "\u001b[1;31mAttributeError\u001b[0m: 'NoneType' object has no attribute 'click'"
     ]
    }
   ],
   "source": [
    "import requests\n",
    "from bs4 import BeautifulSoup\n",
    "\n",
    "# Example URL\n",
    "url = 'http://twitter.com/'\n",
    "\n",
    "# Send a GET request to the URL\n",
    "response = requests.get(url)\n",
    "\n",
    "# Parse the HTML content\n",
    "soup = BeautifulSoup(response.text, 'html.parser')\n",
    "\n",
    "# Find the login button\n",
    "login_button = soup.find('a', {'href': '/login', 'role': 'link', 'class': 'css-175oi2r r-sdzlij r-1phboty r-rs99b7 r-lrvibr r-17w48nw r-a9p05 r-eu3ka r-5oul0u r-1ipicw7 r-2yi16 r-1qi8awa r-ymttw5 r-o7ynqc r-6416eg r-1ny4l3l r-1loqt21'})\n",
    "\n",
    "# Click on the login button\n",
    "login_button.click()\n"
   ]
  }
 ],
 "metadata": {
  "kernelspec": {
   "display_name": "venv",
   "language": "python",
   "name": "python3"
  },
  "language_info": {
   "codemirror_mode": {
    "name": "ipython",
    "version": 3
   },
   "file_extension": ".py",
   "mimetype": "text/x-python",
   "name": "python",
   "nbconvert_exporter": "python",
   "pygments_lexer": "ipython3",
   "version": "3.12.2"
  }
 },
 "nbformat": 4,
 "nbformat_minor": 2
}
