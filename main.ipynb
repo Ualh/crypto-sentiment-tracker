{
 "cells": [
  {
   "cell_type": "code",
   "execution_count": 10,
   "metadata": {},
   "outputs": [
    {
     "name": "stdout",
     "output_type": "stream",
     "text": [
      "Packages to check: ['requests', 'aiohttp', 'pandas', 'tweepy', 'praw', 'ccxt', 'transformers', 'vaderSentiment', 'textblob', 'flask', 'plotly']\n",
      "requests is already installed.\n",
      "aiohttp is not installed. Installing...\n",
      "aiohttp has been installed.\n",
      "pandas is not installed. Installing...\n",
      "pandas has been installed.\n",
      "tweepy is not installed. Installing...\n",
      "tweepy has been installed.\n",
      "praw is not installed. Installing...\n",
      "praw has been installed.\n",
      "ccxt is not installed. Installing...\n",
      "ccxt has been installed.\n",
      "transformers is not installed. Installing...\n",
      "transformers has been installed.\n",
      "vaderSentiment is not installed. Installing...\n",
      "vaderSentiment has been installed.\n",
      "textblob is not installed. Installing...\n",
      "textblob has been installed.\n",
      "flask is not installed. Installing...\n",
      "flask has been installed.\n",
      "plotly is not installed. Installing...\n",
      "plotly has been installed.\n"
     ]
    }
   ],
   "source": [
    "import subprocess\n",
    "# Check if packages are installed\n",
    "def check_packages():\n",
    "    try:\n",
    "        with open('requirements.txt', 'r') as file:\n",
    "            packages = file.read().splitlines()\n",
    "            print(f\"Packages to check: {packages}\")  # Debug print\n",
    "            for package in packages:\n",
    "                try:\n",
    "                    __import__(package)\n",
    "                    print(f\"{package} is already installed.\")\n",
    "                except ImportError:\n",
    "                    print(f\"{package} is not installed. Installing...\")\n",
    "                    subprocess.check_call(['pip', 'install', package])\n",
    "                    print(f\"{package} has been installed.\")\n",
    "    except Exception as e:\n",
    "        print(f\"An error occurred: {e}\")  # Print any other errors\n",
    "\n",
    "# Call the function to check and install packages\n",
    "check_packages()"
   ]
  },
  {
   "cell_type": "code",
   "execution_count": null,
   "metadata": {},
   "outputs": [],
   "source": []
  }
 ],
 "metadata": {
  "kernelspec": {
   "display_name": "venv",
   "language": "python",
   "name": "python3"
  },
  "language_info": {
   "codemirror_mode": {
    "name": "ipython",
    "version": 3
   },
   "file_extension": ".py",
   "mimetype": "text/x-python",
   "name": "python",
   "nbconvert_exporter": "python",
   "pygments_lexer": "ipython3",
   "version": "3.12.2"
  }
 },
 "nbformat": 4,
 "nbformat_minor": 2
}
