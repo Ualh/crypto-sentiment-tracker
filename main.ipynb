{
 "cells": [
  {
   "cell_type": "code",
   "execution_count": 11,
   "metadata": {},
   "outputs": [
    {
     "name": "stdout",
     "output_type": "stream",
     "text": [
      "Packages to check: ['requests', 'aiohttp', 'pandas', 'tweepy', 'praw', 'ccxt', 'transformers', 'vaderSentiment', 'textblob', 'flask', 'plotly', 'beautifulsoup4']\n",
      "requests is already installed.\n",
      "aiohttp is already installed.\n",
      "pandas is already installed.\n",
      "tweepy is already installed.\n",
      "praw is already installed.\n",
      "ccxt is already installed.\n"
     ]
    },
    {
     "name": "stderr",
     "output_type": "stream",
     "text": [
      "c:\\Users\\UrsHu\\Pillars\\Learn\\Academic\\Master\\Semestre 2\\data analysis\\crypto-sentiment-tracker\\venv\\Lib\\site-packages\\tqdm\\auto.py:21: TqdmWarning: IProgress not found. Please update jupyter and ipywidgets. See https://ipywidgets.readthedocs.io/en/stable/user_install.html\n",
      "  from .autonotebook import tqdm as notebook_tqdm\n",
      "None of PyTorch, TensorFlow >= 2.0, or Flax have been found. Models won't be available and only tokenizers, configuration and file/data utilities can be used.\n"
     ]
    },
    {
     "name": "stdout",
     "output_type": "stream",
     "text": [
      "transformers is already installed.\n",
      "vaderSentiment is already installed.\n",
      "textblob is already installed.\n",
      "flask is already installed.\n",
      "plotly is already installed.\n",
      "beautifulsoup4 is not installed. Installing...\n",
      "beautifulsoup4 has been installed.\n"
     ]
    }
   ],
   "source": [
    "import subprocess\n",
    "# Check if packages are installed\n",
    "def check_packages():\n",
    "    try:\n",
    "        with open('requirements.txt', 'r') as file:\n",
    "            packages = file.read().splitlines()\n",
    "            print(f\"Packages to check: {packages}\")  # Debug print\n",
    "            for package in packages:\n",
    "                try:\n",
    "                    __import__(package)\n",
    "                    print(f\"{package} is already installed.\")\n",
    "                except ImportError:\n",
    "                    print(f\"{package} is not installed. Installing...\")\n",
    "                    subprocess.check_call(['pip', 'install', package])\n",
    "                    print(f\"{package} has been installed.\")\n",
    "    except Exception as e:\n",
    "        print(f\"An error occurred: {e}\")  # Print any other errors\n",
    "\n",
    "# Call the function to check and install packages\n",
    "check_packages()"
   ]
  },
  {
   "cell_type": "markdown",
   "metadata": {},
   "source": [
    "# News API"
   ]
  },
  {
   "cell_type": "code",
   "execution_count": 3,
   "metadata": {},
   "outputs": [
    {
     "name": "stdout",
     "output_type": "stream",
     "text": [
      "Found 3 articles\n",
      "Here are the top 3 headlines: \n",
      "Headline from: Fortune\n",
      "Sam Bankman-Fried sentenced to 25 years in prison as the FTX saga draws to a close\n",
      "A jury convicted the disgraced founder of seven counts related to the collapse of his crypto exchange in November.\n",
      "https://fortune.com/crypto/2024/03/28/sam-bankman-fried-ftx-crypto-sentencing-conviction-kaplan/\n",
      "\n",
      "Here are the top 3 headlines: \n",
      "Headline from: Fortune\n",
      "Hedge funds that scooped up FTX bankruptcy claims are looking at 9-figure paydays. One investor shares how he could rake in $25 million\n",
      "Meanwhile, hedge funds have bought over $2.3 billion worth of steeply discounted claims, and are expecting to be paid back in full.\n",
      "https://fortune.com/crypto/2024/03/29/sbf-sam-bankman-fried-bankruptcy-fraud-claims-trading/\n",
      "\n",
      "Here are the top 3 headlines: \n",
      "Headline from: Fortune\n",
      "Even in his final hour, Sam Bankman-Fried insisted FTX was a crisis of liquidity—not outright fraud\n",
      "In the moments before receiving his 25-year sentence, Sam Bankman-Fried was willing to admit responsibility for mismanagement but dodged any recognition of deceit.\n",
      "https://fortune.com/crypto/2024/03/28/sam-bankman-fried-sentencing-crisis-liquidity-fraud-ftx-crypto-exchange/\n",
      "\n"
     ]
    }
   ],
   "source": [
    "from news_api import NewsAPI\n",
    "from alpha_vantage import AlphaVantage\n",
    "from datetime import datetime, timedelta\n",
    "from dotenv import load_dotenv\n",
    "import os\n",
    "load_dotenv()\n",
    "YESTERDAY = datetime.strftime(datetime.now() - timedelta(1), '%Y-%m-%d')\n",
    "\n",
    "equity_portfolio = {\n",
    "    #'VTI': 'Vanguard Total Stock Market Index Fund',\n",
    "    #'GOOG': 'Alphabet',\n",
    "    #'CRM': 'Salesforce',\n",
    "    #'IQV': 'IQVIA',\n",
    "    #'DIS': 'Disney'\n",
    "}\n",
    "\n",
    "# Create an instance of the NewsAPI\n",
    "news_api = NewsAPI(api_key=os.getenv('news_api'))\n",
    "\n",
    "# Use the instance to make a request\n",
    "# response = news_api.make_request('top-headlines/sources')\n",
    "# print(response)\n",
    "\n",
    "# Example for fetching sources\n",
    "# sources = news_api.get_sources(category=\"business\", language='en')\n",
    "# for i in sources['sources'] :\n",
    "#     print(i)\n",
    "\n",
    "# Fetch news articles about Bitcoin from a specific date range\n",
    "headlines = news_api.get_news(topic='crypto', from_date='2024-03-28', to_date='2024-04-01')\n",
    "\n",
    "# Print the headlines\n",
    "# This is the important step to ensure the fetched headlines are displayed\n",
    "for i in headlines:\n",
    "    print(f'Here are the top 3 headlines: \\n{i}')"
   ]
  },
  {
   "cell_type": "markdown",
   "metadata": {},
   "source": [
    "# Alphavantage"
   ]
  },
  {
   "cell_type": "code",
   "execution_count": null,
   "metadata": {},
   "outputs": [],
   "source": [
    "ALPHA_API_KEY = os.getenv('stock_api')\n",
    "STOCK_ENDPOINT = 'https://www.alphavantage.co/query'\n",
    "av = AlphaVantage(api_key=ALPHA_API_KEY, endpoint=STOCK_ENDPOINT)\n"
   ]
  },
  {
   "cell_type": "markdown",
   "metadata": {},
   "source": [
    "# MarketStack API"
   ]
  },
  {
   "cell_type": "code",
   "execution_count": 4,
   "metadata": {},
   "outputs": [
    {
     "name": "stdout",
     "output_type": "stream",
     "text": [
      "{'pagination': {'limit': 100, 'offset': 0, 'count': 100, 'total': 252}, 'data': {'name': 'Microsoft Corporation', 'symbol': 'MSFT', 'country': None, 'has_intraday': False, 'has_eod': True, 'eod': [{'open': 421.05, 'high': 421.87, 'low': 419.14, 'close': 420.72, 'volume': 21711778.0, 'adj_high': 421.87, 'adj_low': 419.12, 'adj_close': 420.72, 'adj_open': 420.96, 'adj_volume': 21871161.0, 'split_factor': 1.0, 'dividend': 0.0, 'symbol': 'MSFT', 'exchange': 'XNAS', 'date': '2024-03-28T00:00:00+0000'}, {'open': 424.2, 'high': 424.4, 'low': 419.01, 'close': 421.43, 'volume': 16679715.0, 'adj_high': 424.45, 'adj_low': 419.01, 'adj_close': 421.43, 'adj_open': 424.44, 'adj_volume': 16704978.0, 'split_factor': 1.0, 'dividend': 0.0, 'symbol': 'MSFT', 'exchange': 'XNAS', 'date': '2024-03-27T00:00:00+0000'}, {'open': 425.61, 'high': 425.99, 'low': 421.35, 'close': 421.65, 'volume': 16690800.0, 'adj_high': 425.99, 'adj_low': 421.35, 'adj_close': 421.65, 'adj_open': 425.61, 'adj_volume': 16725647.0, 'split_factor': 1.0, 'dividend': 0.0, 'symbol': 'MSFT', 'exchange': 'XNAS', 'date': '2024-03-26T00:00:00+0000'}, {'open': 425.24, 'high': 427.41, 'low': 421.61, 'close': 422.86, 'volume': 17860400.0, 'adj_high': 427.41, 'adj_low': 421.61, 'adj_close': 422.86, 'adj_open': 425.24, 'adj_volume': 18060450.0, 'split_factor': 1.0, 'dividend': 0.0, 'symbol': 'MSFT', 'exchange': 'XNAS', 'date': '2024-03-25T00:00:00+0000'}, {'open': 429.7, 'high': 429.86, 'low': 426.07, 'close': 428.74, 'volume': 17636500.0, 'adj_high': 429.86, 'adj_low': 426.07, 'adj_close': 428.74, 'adj_open': 429.7, 'adj_volume': 17648473.0, 'split_factor': 1.0, 'dividend': 0.0, 'symbol': 'MSFT', 'exchange': 'XNAS', 'date': '2024-03-22T00:00:00+0000'}, {'open': 429.85, 'high': 430.8199, 'low': 427.172, 'close': 429.37, 'volume': 21241322.0, 'adj_high': 430.82, 'adj_low': 427.16, 'adj_close': 429.37, 'adj_open': 429.83, 'adj_volume': 21296222.0, 'split_factor': 1.0, 'dividend': 0.0, 'symbol': 'MSFT', 'exchange': 'XNAS', 'date': '2024-03-21T00:00:00+0000'}, {'open': 422.0, 'high': 425.96, 'low': 420.66, 'close': 425.23, 'volume': 17828300.0, 'adj_high': 425.96, 'adj_low': 420.66, 'adj_close': 425.23, 'adj_open': 422.0, 'adj_volume': 17860085.0, 'split_factor': 1.0, 'dividend': 0.0, 'symbol': 'MSFT', 'exchange': 'XNAS', 'date': '2024-03-20T00:00:00+0000'}, {'open': 417.83, 'high': 421.67, 'low': 415.55, 'close': 421.41, 'volume': 19824100.0, 'adj_high': 421.6656, 'adj_low': 415.55, 'adj_close': 421.41, 'adj_open': 417.83, 'adj_volume': 19837915.0, 'split_factor': 1.0, 'dividend': 0.0, 'symbol': 'MSFT', 'exchange': 'XNAS', 'date': '2024-03-19T00:00:00+0000'}, {'open': 414.25, 'high': 420.73, 'low': 413.78, 'close': 417.32, 'volume': 20106000.0, 'adj_high': 420.73, 'adj_low': 413.78, 'adj_close': 417.32, 'adj_open': 414.25, 'adj_volume': 20105977.0, 'split_factor': 1.0, 'dividend': 0.0, 'symbol': 'MSFT', 'exchange': 'XNAS', 'date': '2024-03-18T00:00:00+0000'}, {'open': 419.29, 'high': 422.6, 'low': 412.79, 'close': 416.42, 'volume': 45049800.0, 'adj_high': 422.6, 'adj_low': 412.79, 'adj_close': 416.42, 'adj_open': 419.29, 'adj_volume': 45079903.0, 'split_factor': 1.0, 'dividend': 0.0, 'symbol': 'MSFT', 'exchange': 'XNAS', 'date': '2024-03-15T00:00:00+0000'}, {'open': 420.24, 'high': 427.82, 'low': 417.99, 'close': 425.22, 'volume': 34157300.0, 'adj_high': 427.82, 'adj_low': 417.99, 'adj_close': 425.22, 'adj_open': 420.24, 'adj_volume': 33955263.0, 'split_factor': 1.0, 'dividend': 0.0, 'symbol': 'MSFT', 'exchange': 'XNAS', 'date': '2024-03-14T00:00:00+0000'}, {'open': 418.1, 'high': 418.18, 'low': 411.45, 'close': 415.1, 'volume': 17115900.0, 'adj_high': 418.18, 'adj_low': 411.45, 'adj_close': 415.1, 'adj_open': 418.1, 'adj_volume': 16990048.0, 'split_factor': 1.0, 'dividend': 0.0, 'symbol': 'MSFT', 'exchange': 'XNAS', 'date': '2024-03-13T00:00:00+0000'}, {'open': 407.62, 'high': 415.57, 'low': 406.79, 'close': 415.28, 'volume': 22457000.0, 'adj_high': 415.57, 'adj_low': 406.79, 'adj_close': 415.28, 'adj_open': 407.62, 'adj_volume': 21563656.0, 'split_factor': 1.0, 'dividend': 0.0, 'symbol': 'MSFT', 'exchange': 'XNAS', 'date': '2024-03-12T00:00:00+0000'}, {'open': 403.76, 'high': 405.68, 'low': 401.26, 'close': 404.52, 'volume': 16120800.0, 'adj_high': 405.68, 'adj_low': 401.26, 'adj_close': 404.52, 'adj_open': 403.76, 'adj_volume': 15998511.0, 'split_factor': 1.0, 'dividend': 0.0, 'symbol': 'MSFT', 'exchange': 'XNAS', 'date': '2024-03-11T00:00:00+0000'}, {'open': 407.96, 'high': 410.42, 'low': 404.33, 'close': 406.22, 'volume': 17971700.0, 'adj_high': 410.42, 'adj_low': 404.33, 'adj_close': 406.22, 'adj_open': 407.96, 'adj_volume': 18002186.0, 'split_factor': 1.0, 'dividend': 0.0, 'symbol': 'MSFT', 'exchange': 'XNAS', 'date': '2024-03-08T00:00:00+0000'}, {'open': 406.12, 'high': 409.78, 'low': 402.24, 'close': 409.14, 'volume': 18718500.0, 'adj_high': 409.78, 'adj_low': 402.24, 'adj_close': 409.14, 'adj_open': 406.12, 'adj_volume': 18718479.0, 'split_factor': 1.0, 'dividend': 0.0, 'symbol': 'MSFT', 'exchange': 'XNAS', 'date': '2024-03-07T00:00:00+0000'}, {'open': 402.97, 'high': 405.16, 'low': 398.39, 'close': 402.09, 'volume': 22344100.0, 'adj_high': 405.16, 'adj_low': 398.39, 'adj_close': 402.09, 'adj_open': 402.97, 'adj_volume': 22344149.0, 'split_factor': 1.0, 'dividend': 0.0, 'symbol': 'MSFT', 'exchange': 'XNAS', 'date': '2024-03-06T00:00:00+0000'}, {'open': 413.96, 'high': 414.25, 'low': 400.64, 'close': 402.65, 'volume': 26919200.0, 'adj_high': 414.25, 'adj_low': 400.64, 'adj_close': 402.65, 'adj_open': 413.96, 'adj_volume': 26919177.0, 'split_factor': 1.0, 'dividend': 0.0, 'symbol': 'MSFT', 'exchange': 'XNAS', 'date': '2024-03-05T00:00:00+0000'}, {'open': 413.44, 'high': 417.35, 'low': 412.32, 'close': 414.92, 'volume': 17596000.0, 'adj_high': 417.35, 'adj_low': 412.32, 'adj_close': 414.92, 'adj_open': 413.44, 'adj_volume': 17595956.0, 'split_factor': 1.0, 'dividend': 0.0, 'symbol': 'MSFT', 'exchange': 'XNAS', 'date': '2024-03-04T00:00:00+0000'}, {'open': 411.27, 'high': 415.87, 'low': 410.88, 'close': 415.5, 'volume': 17800300.0, 'adj_high': 415.87, 'adj_low': 410.88, 'adj_close': 415.5, 'adj_open': 411.27, 'adj_volume': 17823445.0, 'split_factor': 1.0, 'dividend': 0.0, 'symbol': 'MSFT', 'exchange': 'XNAS', 'date': '2024-03-01T00:00:00+0000'}, {'open': 408.64, 'high': 414.2, 'low': 405.92, 'close': 413.64, 'volume': 31947300.0, 'adj_high': 414.2, 'adj_low': 405.92, 'adj_close': 413.64, 'adj_open': 408.64, 'adj_volume': 31947263.0, 'split_factor': 1.0, 'dividend': 0.0, 'symbol': 'MSFT', 'exchange': 'XNAS', 'date': '2024-02-29T00:00:00+0000'}, {'open': 408.18, 'high': 409.3, 'low': 405.32, 'close': 407.72, 'volume': 13183100.0, 'adj_high': 409.3, 'adj_low': 405.3201, 'adj_close': 407.72, 'adj_open': 408.175, 'adj_volume': 13183125.0, 'split_factor': 1.0, 'dividend': 0.0, 'symbol': 'MSFT', 'exchange': 'XNAS', 'date': '2024-02-28T00:00:00+0000'}, {'open': 407.99, 'high': 408.32, 'low': 403.85, 'close': 407.48, 'volume': 14835800.0, 'adj_high': 408.32, 'adj_low': 403.85, 'adj_close': 407.48, 'adj_open': 407.99, 'adj_volume': 14835827.0, 'split_factor': 1.0, 'dividend': 0.0, 'symbol': 'MSFT', 'exchange': 'XNAS', 'date': '2024-02-27T00:00:00+0000'}, {'open': 411.46, 'high': 412.16, 'low': 407.36, 'close': 407.54, 'volume': 16193500.0, 'adj_high': 412.16, 'adj_low': 407.36, 'adj_close': 407.54, 'adj_open': 411.455, 'adj_volume': 16193505.0, 'split_factor': 1.0, 'dividend': 0.0, 'symbol': 'MSFT', 'exchange': 'XNAS', 'date': '2024-02-26T00:00:00+0000'}, {'open': 415.67, 'high': 415.86, 'low': 408.97, 'close': 410.34, 'volume': 16295900.0, 'adj_high': 415.86, 'adj_low': 408.97, 'adj_close': 410.34, 'adj_open': 415.67, 'adj_volume': 16295879.0, 'split_factor': 1.0, 'dividend': 0.0, 'symbol': 'MSFT', 'exchange': 'XNAS', 'date': '2024-02-23T00:00:00+0000'}, {'open': 410.19, 'high': 412.83, 'low': 408.57, 'close': 411.65, 'volume': 27009900.0, 'adj_high': 412.83, 'adj_low': 408.57, 'adj_close': 411.65, 'adj_open': 410.19, 'adj_volume': 27009869.0, 'split_factor': 1.0, 'dividend': 0.0, 'symbol': 'MSFT', 'exchange': 'XNAS', 'date': '2024-02-22T00:00:00+0000'}, {'open': 400.17, 'high': 402.29, 'low': 397.22, 'close': 402.18, 'volume': 18631100.0, 'adj_high': 402.29, 'adj_low': 397.22, 'adj_close': 402.18, 'adj_open': 400.17, 'adj_volume': 18631072.0, 'split_factor': 1.0, 'dividend': 0.0, 'symbol': 'MSFT', 'exchange': 'XNAS', 'date': '2024-02-21T00:00:00+0000'}, {'open': 403.24, 'high': 404.49, 'low': 398.01, 'close': 402.79, 'volume': 24307900.0, 'adj_high': 404.49, 'adj_low': 398.01, 'adj_close': 402.79, 'adj_open': 403.24, 'adj_volume': 24307915.0, 'split_factor': 1.0, 'dividend': 0.0, 'symbol': 'MSFT', 'exchange': 'XNAS', 'date': '2024-02-20T00:00:00+0000'}, {'open': 407.96, 'high': 408.29, 'low': 403.44, 'close': 404.06, 'volume': 22281100.0, 'adj_high': 408.29, 'adj_low': 403.44, 'adj_close': 404.06, 'adj_open': 407.96, 'adj_volume': 22296495.0, 'split_factor': 1.0, 'dividend': 0.0, 'symbol': 'MSFT', 'exchange': 'XNAS', 'date': '2024-02-16T00:00:00+0000'}, {'open': 408.14, 'high': 409.13, 'low': 404.29, 'close': 406.56, 'volume': 21825500.0, 'adj_high': 409.13, 'adj_low': 404.29, 'adj_close': 406.56, 'adj_open': 408.14, 'adj_volume': 21825525.0, 'split_factor': 1.0, 'dividend': 0.0, 'symbol': 'MSFT', 'exchange': 'XNAS', 'date': '2024-02-15T00:00:00+0000'}, {'open': 408.07, 'high': 409.84, 'low': 404.57, 'close': 409.49, 'volume': 20401200.0, 'adj_high': 409.84, 'adj_low': 404.57, 'adj_close': 409.49, 'adj_open': 408.07, 'adj_volume': 20401190.0, 'split_factor': 1.0, 'dividend': 0.75, 'symbol': 'MSFT', 'exchange': 'XNAS', 'date': '2024-02-14T00:00:00+0000'}, {'open': 404.94, 'high': 410.07, 'low': 403.39, 'close': 406.32, 'volume': 27824900.0, 'adj_high': 409.3213089655, 'adj_low': 402.6525231572, 'adj_close': 405.57, 'adj_open': 404.1996894501, 'adj_volume': 27824936.0, 'split_factor': 1.0, 'dividend': 0.0, 'symbol': 'MSFT', 'exchange': 'XNAS', 'date': '2024-02-13T00:00:00+0000'}, {'open': 420.56, 'high': 420.74, 'low': 414.75, 'close': 415.26, 'volume': 21202900.0, 'adj_high': 419.9708039197, 'adj_low': 413.9917548264, 'adj_close': 414.4935, 'adj_open': 419.7861421363, 'adj_volume': 21202921.0, 'split_factor': 1.0, 'dividend': 0.0, 'symbol': 'MSFT', 'exchange': 'XNAS', 'date': '2024-02-12T00:00:00+0000'}, {'open': 415.25, 'high': 420.82, 'low': 415.09, 'close': 420.55, 'volume': 22032800.0, 'adj_high': 420.0506576638, 'adj_low': 414.3311332391, 'adj_close': 419.7737, 'adj_open': 414.4908407274, 'adj_volume': 22032844.0, 'split_factor': 1.0, 'dividend': 0.0, 'symbol': 'MSFT', 'exchange': 'XNAS', 'date': '2024-02-09T00:00:00+0000'}, {'open': 414.05, 'high': 415.56, 'low': 412.53, 'close': 414.11, 'volume': 21225300.0, 'adj_high': 414.800273986, 'adj_low': 411.7758134263, 'adj_close': 413.3456, 'adj_open': 413.2930345651, 'adj_volume': 21225257.0, 'split_factor': 1.0, 'dividend': 0.0, 'symbol': 'MSFT', 'exchange': 'XNAS', 'date': '2024-02-08T00:00:00+0000'}, {'open': 407.44, 'high': 414.3, 'low': 407.4, 'close': 414.05, 'volume': 22340500.0, 'adj_high': 413.5425775156, 'adj_low': 406.6551920827, 'adj_close': 413.2857, 'adj_open': 406.6951189548, 'adj_volume': 22340526.0, 'split_factor': 1.0, 'dividend': 0.0, 'symbol': 'MSFT', 'exchange': 'XNAS', 'date': '2024-02-07T00:00:00+0000'}, {'open': 405.88, 'high': 407.97, 'low': 402.91, 'close': 405.49, 'volume': 18382600.0, 'adj_high': 407.2241500098, 'adj_low': 402.1734006923, 'adj_close': 404.7415, 'adj_open': 405.1379709438, 'adj_volume': 18382624.0, 'split_factor': 1.0, 'dividend': 0.0, 'symbol': 'MSFT', 'exchange': 'XNAS', 'date': '2024-02-06T00:00:00+0000'}, {'open': 409.9, 'high': 411.16, 'low': 403.99, 'close': 405.65, 'volume': 25352300.0, 'adj_high': 410.4083180577, 'adj_low': 403.2514262383, 'adj_close': 404.9012, 'adj_open': 409.1506215874, 'adj_volume': 25352286.0, 'split_factor': 1.0, 'dividend': 0.0, 'symbol': 'MSFT', 'exchange': 'XNAS', 'date': '2024-02-05T00:00:00+0000'}, {'open': 403.81, 'high': 412.65, 'low': 403.56, 'close': 411.22, 'volume': 28245000.0, 'adj_high': 411.8955940425, 'adj_low': 402.8222123635, 'adj_close': 410.461, 'adj_open': 403.071755314, 'adj_volume': 28256670.0, 'split_factor': 1.0, 'dividend': 0.0, 'symbol': 'MSFT', 'exchange': 'XNAS', 'date': '2024-02-02T00:00:00+0000'}, {'open': 401.83, 'high': 408.0, 'low': 401.8, 'close': 403.78, 'volume': 30657700.0, 'adj_high': 407.2540951638, 'adj_low': 401.0654299922, 'adj_close': 403.0347, 'adj_open': 401.0953751463, 'adj_volume': 30657726.0, 'split_factor': 1.0, 'dividend': 0.0, 'symbol': 'MSFT', 'exchange': 'XNAS', 'date': '2024-02-01T00:00:00+0000'}, {'open': 406.96, 'high': 415.32, 'low': 397.21, 'close': 397.58, 'volume': 47871100.0, 'adj_high': 414.5607127535, 'adj_low': 396.4838214216, 'adj_close': 396.8461, 'adj_open': 406.2159964899, 'adj_volume': 47871097.0, 'split_factor': 1.0, 'dividend': 0.0, 'symbol': 'MSFT', 'exchange': 'XNAS', 'date': '2024-01-31T00:00:00+0000'}, {'open': 412.26, 'high': 413.05, 'low': 406.45, 'close': 408.59, 'volume': 33477600.0, 'adj_high': 412.2948627633, 'adj_low': 405.7070286881, 'adj_close': 407.8358, 'adj_open': 411.5063070398, 'adj_volume': 33477610.0, 'split_factor': 1.0, 'dividend': 0.0, 'symbol': 'MSFT', 'exchange': 'XNAS', 'date': '2024-01-30T00:00:00+0000'}, {'open': 406.06, 'high': 409.98, 'low': 404.33, 'close': 409.72, 'volume': 24510200.0, 'adj_high': 409.2304753315, 'adj_low': 403.5908046509, 'adj_close': 408.9637, 'adj_open': 405.3176418682, 'adj_volume': 24510236.0, 'split_factor': 1.0, 'dividend': 0.0, 'symbol': 'MSFT', 'exchange': 'XNAS', 'date': '2024-01-29T00:00:00+0000'}, {'open': 404.37, 'high': 406.17, 'low': 402.43, 'close': 403.93, 'volume': 17803300.0, 'adj_high': 405.4274407664, 'adj_low': 401.6942782274, 'adj_close': 403.1844, 'adj_open': 403.630731523, 'adj_volume': 17803271.0, 'split_factor': 1.0, 'dividend': 0.0, 'symbol': 'MSFT', 'exchange': 'XNAS', 'date': '2024-01-26T00:00:00+0000'}, {'open': 404.32, 'high': 407.01, 'low': 402.53, 'close': 404.87, 'volume': 21021200.0, 'adj_high': 406.26590508, 'adj_low': 401.7934965045, 'adj_close': 404.1227, 'adj_open': 403.5808229329, 'adj_volume': 21021155.0, 'split_factor': 1.0, 'dividend': 0.0, 'symbol': 'MSFT', 'exchange': 'XNAS', 'date': '2024-01-25T00:00:00+0000'}, {'open': 401.54, 'high': 405.63, 'low': 400.45, 'close': 402.56, 'volume': 24867000.0, 'adj_high': 404.8884279934, 'adj_low': 399.7178980597, 'adj_close': 401.8169, 'adj_open': 400.8059053237, 'adj_volume': 23281889.0, 'split_factor': 1.0, 'dividend': 0.0, 'symbol': 'MSFT', 'exchange': 'XNAS', 'date': '2024-01-24T00:00:00+0000'}, {'open': 395.75, 'high': 399.38, 'low': 393.93, 'close': 398.9, 'volume': 20525900.0, 'adj_high': 398.6498542317, 'adj_low': 393.2098179115, 'adj_close': 398.1637, 'adj_open': 395.0264905909, 'adj_volume': 20525882.0, 'split_factor': 1.0, 'dividend': 0.0, 'symbol': 'MSFT', 'exchange': 'XNAS', 'date': '2024-01-23T00:00:00+0000'}, {'open': 400.02, 'high': 400.62, 'low': 393.59, 'close': 396.51, 'volume': 27016900.0, 'adj_high': 399.887587266, 'adj_low': 392.8704394988, 'adj_close': 395.7781, 'adj_open': 399.2886841849, 'adj_volume': 27016902.0, 'split_factor': 1.0, 'dividend': 0.0, 'symbol': 'MSFT', 'exchange': 'XNAS', 'date': '2024-01-22T00:00:00+0000'}, {'open': 395.76, 'high': 398.67, 'low': 393.5, 'close': 398.67, 'volume': 29272000.0, 'adj_high': 397.9411522523, 'adj_low': 392.7806040367, 'adj_close': 397.9341, 'adj_open': 395.0364723089, 'adj_volume': 29331136.0, 'split_factor': 1.0, 'dividend': 0.0, 'symbol': 'MSFT', 'exchange': 'XNAS', 'date': '2024-01-19T00:00:00+0000'}, {'open': 391.72, 'high': 393.99, 'low': 390.12, 'close': 393.87, 'volume': 23392100.0, 'adj_high': 393.2697082196, 'adj_low': 389.4067833463, 'adj_close': 393.143, 'adj_open': 391.0038582293, 'adj_volume': 23392068.0, 'split_factor': 1.0, 'dividend': 0.0, 'symbol': 'MSFT', 'exchange': 'XNAS', 'date': '2024-01-18T00:00:00+0000'}, {'open': 387.98, 'high': 390.11, 'low': 384.81, 'close': 389.47, 'volume': 22234100.0, 'adj_high': 389.3968016283, 'adj_low': 384.1064910784, 'adj_close': 388.7511, 'adj_open': 387.2706956903, 'adj_volume': 22234108.0, 'split_factor': 1.0, 'dividend': 0.0, 'symbol': 'MSFT', 'exchange': 'XNAS', 'date': '2024-01-17T00:00:00+0000'}, {'open': 393.66, 'high': 394.03, 'low': 387.62, 'close': 390.27, 'volume': 27202300.0, 'adj_high': 393.3096350917, 'adj_low': 386.9142485399, 'adj_close': 389.5496, 'adj_open': 392.940311525, 'adj_volume': 27202268.0, 'split_factor': 1.0, 'dividend': 0.0, 'symbol': 'MSFT', 'exchange': 'XNAS', 'date': '2024-01-16T00:00:00+0000'}, {'open': 385.49, 'high': 388.68, 'low': 384.65, 'close': 388.47, 'volume': 21645700.0, 'adj_high': 387.9694159516, 'adj_low': 383.9467835901, 'adj_close': 387.7529, 'adj_open': 384.7852479037, 'adj_volume': 21661153.0, 'split_factor': 1.0, 'dividend': 0.0, 'symbol': 'MSFT', 'exchange': 'XNAS', 'date': '2024-01-12T00:00:00+0000'}, {'open': 386.0, 'high': 390.68, 'low': 380.38, 'close': 384.63, 'volume': 27850800.0, 'adj_high': 389.9657595554, 'adj_low': 379.6845899961, 'adj_close': 383.92, 'adj_open': 385.2943155226, 'adj_volume': 27850846.0, 'split_factor': 1.0, 'dividend': 0.0, 'symbol': 'MSFT', 'exchange': 'XNAS', 'date': '2024-01-11T00:00:00+0000'}, {'open': 376.37, 'high': 384.17, 'low': 376.32, 'close': 382.77, 'volume': 25514200.0, 'adj_high': 383.4676611252, 'adj_low': 375.6320124805, 'adj_close': 382.0635, 'adj_open': 375.6819210706, 'adj_volume': 25514245.0, 'split_factor': 1.0, 'dividend': 0.0, 'symbol': 'MSFT', 'exchange': 'XNAS', 'date': '2024-01-10T00:00:00+0000'}, {'open': 372.01, 'high': 375.99, 'low': 371.19, 'close': 375.79, 'volume': 20830000.0, 'adj_high': 375.3026157859, 'adj_low': 370.5113911369, 'adj_close': 375.0964, 'adj_open': 371.3298920144, 'adj_volume': 20829953.0, 'split_factor': 1.0, 'dividend': 0.0, 'symbol': 'MSFT', 'exchange': 'XNAS', 'date': '2024-01-09T00:00:00+0000'}, {'open': 369.3, 'high': 375.2, 'low': 369.01, 'close': 374.69, 'volume': 23134000.0, 'adj_high': 374.5140600624, 'adj_low': 368.3353766088, 'adj_close': 373.9984, 'adj_open': 368.6248464314, 'adj_volume': 23133967.0, 'split_factor': 1.0, 'dividend': 0.0, 'symbol': 'MSFT', 'exchange': 'XNAS', 'date': '2024-01-08T00:00:00+0000'}, {'open': 368.97, 'high': 372.06, 'low': 366.5, 'close': 367.75, 'volume': 20987000.0, 'adj_high': 371.3798006045, 'adj_low': 365.8299653861, 'adj_close': 367.0712, 'adj_open': 368.2954497367, 'adj_volume': 20074451.0, 'split_factor': 1.0, 'dividend': 0.0, 'symbol': 'MSFT', 'exchange': 'XNAS', 'date': '2024-01-05T00:00:00+0000'}, {'open': 370.67, 'high': 373.1, 'low': 367.17, 'close': 367.94, 'volume': 20901500.0, 'adj_high': 372.4178992785, 'adj_low': 366.4987404934, 'adj_close': 367.2608, 'adj_open': 369.9873509409, 'adj_volume': 20901502.0, 'split_factor': 1.0, 'dividend': 0.0, 'symbol': 'MSFT', 'exchange': 'XNAS', 'date': '2024-01-04T00:00:00+0000'}, {'open': 369.01, 'high': 373.26, 'low': 368.51, 'close': 370.6, 'volume': 23083500.0, 'adj_high': 372.5738137139, 'adj_low': 367.8362907079, 'adj_close': 369.9159, 'adj_open': 368.3353766088, 'adj_volume': 23083465.0, 'split_factor': 1.0, 'dividend': 0.0, 'symbol': 'MSFT', 'exchange': 'XNAS', 'date': '2024-01-03T00:00:00+0000'}, {'open': 373.86, 'high': 375.9, 'low': 366.77, 'close': 370.87, 'volume': 25258600.0, 'adj_high': 375.2127803237, 'adj_low': 366.1004699444, 'adj_close': 370.1854, 'adj_open': 373.1765098479, 'adj_volume': 25258633.0, 'split_factor': 1.0, 'dividend': 0.0, 'symbol': 'MSFT', 'exchange': 'XNAS', 'date': '2024-01-02T00:00:00+0000'}, {'open': 376.0, 'high': 377.16, 'low': 373.48, 'close': 376.04, 'volume': 18723000.0, 'adj_high': 376.4704767941, 'adj_low': 372.7972045632, 'adj_close': 375.3459, 'adj_open': 375.3125975039, 'adj_volume': 18730838.0, 'split_factor': 1.0, 'dividend': 0.0, 'symbol': 'MSFT', 'exchange': 'XNAS', 'date': '2023-12-29T00:00:00+0000'}, {'open': 375.37, 'high': 376.46, 'low': 374.16, 'close': 375.28, 'volume': 14327000.0, 'adj_high': 375.7697601892, 'adj_low': 373.4759613885, 'adj_close': 374.5873, 'adj_open': 374.6837492687, 'adj_volume': 14327013.0, 'split_factor': 1.0, 'dividend': 0.0, 'symbol': 'MSFT', 'exchange': 'XNAS', 'date': '2023-12-28T00:00:00+0000'}, {'open': 373.69, 'high': 375.06, 'low': 372.81, 'close': 374.07, 'volume': 14905400.0, 'adj_high': 374.3743160101, 'adj_low': 372.1300265308, 'adj_close': 373.3795, 'adj_open': 373.0068206416, 'adj_volume': 14872756.0, 'split_factor': 1.0, 'dividend': 0.0, 'symbol': 'MSFT', 'exchange': 'XNAS', 'date': '2023-12-27T00:00:00+0000'}, {'open': 375.0, 'high': 376.94, 'low': 373.5, 'close': 374.66, 'volume': 12673100.0, 'adj_high': 376.2508789977, 'adj_low': 372.8171679992, 'adj_close': 373.9684, 'adj_open': 374.314425702, 'adj_volume': 12673050.0, 'split_factor': 1.0, 'dividend': 0.0, 'symbol': 'MSFT', 'exchange': 'XNAS', 'date': '2023-12-26T00:00:00+0000'}, {'open': 373.68, 'high': 375.18, 'low': 372.71, 'close': 374.58, 'volume': 17091100.0, 'adj_high': 374.4940966264, 'adj_low': 372.0286122757, 'adj_close': 373.8886, 'adj_open': 372.9968389236, 'adj_volume': 17107484.0, 'split_factor': 1.0, 'dividend': 0.0, 'symbol': 'MSFT', 'exchange': 'XNAS', 'date': '2023-12-22T00:00:00+0000'}, {'open': 372.56, 'high': 374.41, 'low': 370.04, 'close': 373.54, 'volume': 17708000.0, 'adj_high': 373.7255043389, 'adj_low': 369.3634935647, 'adj_close': 372.8505, 'adj_open': 371.8788865055, 'adj_volume': 17708006.0, 'split_factor': 1.0, 'dividend': 0.0, 'symbol': 'MSFT', 'exchange': 'XNAS', 'date': '2023-12-21T00:00:00+0000'}, {'open': 375.0, 'high': 376.03, 'low': 370.53, 'close': 370.62, 'volume': 26316700.0, 'adj_high': 375.342542658, 'adj_low': 369.8525977477, 'adj_close': 369.9359, 'adj_open': 374.314425702, 'adj_volume': 26316650.0, 'split_factor': 1.0, 'dividend': 0.0, 'symbol': 'MSFT', 'exchange': 'XNAS', 'date': '2023-12-20T00:00:00+0000'}, {'open': 371.49, 'high': 373.26, 'low': 369.84, 'close': 373.26, 'volume': 20603700.0, 'adj_high': 372.5776067668, 'adj_low': 369.1638592044, 'adj_close': 372.571, 'adj_open': 370.8108426775, 'adj_volume': 20533284.0, 'split_factor': 1.0, 'dividend': 0.0, 'symbol': 'MSFT', 'exchange': 'XNAS', 'date': '2023-12-19T00:00:00+0000'}, {'open': 369.45, 'high': 373.0, 'low': 368.68, 'close': 372.65, 'volume': 21802900.0, 'adj_high': 372.3180820983, 'adj_low': 368.0059799142, 'adj_close': 371.9621, 'adj_open': 368.7745722016, 'adj_volume': 21802878.0, 'split_factor': 1.0, 'dividend': 0.0, 'symbol': 'MSFT', 'exchange': 'XNAS', 'date': '2023-12-18T00:00:00+0000'}, {'open': 366.85, 'high': 372.4, 'low': 366.28, 'close': 370.73, 'volume': 78478200.0, 'adj_high': 371.7191790172, 'adj_low': 365.6103675897, 'adj_close': 370.0457, 'adj_open': 366.1793255168, 'adj_volume': 78502324.0, 'split_factor': 1.0, 'dividend': 0.0, 'symbol': 'MSFT', 'exchange': 'XNAS', 'date': '2023-12-15T00:00:00+0000'}, {'open': 373.31, 'high': 373.76, 'low': 364.13, 'close': 365.93, 'volume': 43277500.0, 'adj_high': 373.0766926677, 'adj_low': 363.4642982157, 'adj_close': 365.2546, 'adj_open': 372.6275153569, 'adj_volume': 43277461.0, 'split_factor': 1.0, 'dividend': 0.0, 'symbol': 'MSFT', 'exchange': 'XNAS', 'date': '2023-12-14T00:00:00+0000'}, {'open': 376.02, 'high': 377.64, 'low': 370.77, 'close': 374.37, 'volume': 30955500.0, 'adj_high': 376.9457063889, 'adj_low': 370.0921589801, 'adj_close': 373.679, 'adj_open': 375.3325609399, 'adj_volume': 30955531.0, 'split_factor': 1.0, 'dividend': 0.0, 'symbol': 'MSFT', 'exchange': 'XNAS', 'date': '2023-12-13T00:00:00+0000'}, {'open': 370.85, 'high': 374.42, 'low': 370.46, 'close': 374.38, 'volume': 24838300.0, 'adj_high': 373.7354860569, 'adj_low': 369.7827257215, 'adj_close': 373.689, 'adj_open': 370.1720127243, 'adj_volume': 24838253.0, 'split_factor': 1.0, 'dividend': 0.0, 'symbol': 'MSFT', 'exchange': 'XNAS', 'date': '2023-12-12T00:00:00+0000'}, {'open': 368.48, 'high': 371.6, 'low': 366.1, 'close': 371.3, 'volume': 27708800.0, 'adj_high': 370.9206415757, 'adj_low': 365.4306966654, 'adj_close': 370.6146, 'adj_open': 367.8063455538, 'adj_volume': 27708757.0, 'split_factor': 1.0, 'dividend': 0.0, 'symbol': 'MSFT', 'exchange': 'XNAS', 'date': '2023-12-11T00:00:00+0000'}, {'open': 369.2, 'high': 374.46, 'low': 368.23, 'close': 374.23, 'volume': 20144800.0, 'adj_high': 373.775412929, 'adj_low': 367.5568026034, 'adj_close': 373.5392, 'adj_open': 368.5250292512, 'adj_volume': 20154366.0, 'split_factor': 1.0, 'dividend': 0.0, 'symbol': 'MSFT', 'exchange': 'XNAS', 'date': '2023-12-08T00:00:00+0000'}, {'open': 368.23, 'high': 371.45, 'low': 366.32, 'close': 370.95, 'volume': 23118900.0, 'adj_high': 370.7736108692, 'adj_low': 365.6502944618, 'adj_close': 370.2653, 'adj_open': 367.5568026034, 'adj_volume': 23118864.0, 'split_factor': 1.0, 'dividend': 0.0, 'symbol': 'MSFT', 'exchange': 'XNAS', 'date': '2023-12-07T00:00:00+0000'}, {'open': 373.54, 'high': 374.18, 'low': 368.03, 'close': 368.8, 'volume': 21182100.0, 'adj_high': 373.4959248245, 'adj_low': 367.357168243, 'adj_close': 368.1193, 'adj_open': 372.8570948713, 'adj_volume': 21118348.0, 'split_factor': 1.0, 'dividend': 0.0, 'symbol': 'MSFT', 'exchange': 'XNAS', 'date': '2023-12-06T00:00:00+0000'}, {'open': 366.45, 'high': 373.08, 'low': 365.62, 'close': 372.52, 'volume': 23065000.0, 'adj_high': 372.3929449834, 'adj_low': 364.9525723723, 'adj_close': 371.8324, 'adj_open': 365.780056796, 'adj_volume': 23065035.0, 'split_factor': 1.0, 'dividend': 0.0, 'symbol': 'MSFT', 'exchange': 'XNAS', 'date': '2023-12-05T00:00:00+0000'}, {'open': 369.1, 'high': 369.52, 'low': 362.9, 'close': 369.14, 'volume': 32063300.0, 'adj_high': 368.8444442278, 'adj_low': 362.2365468994, 'adj_close': 368.4586, 'adj_open': 368.425212071, 'adj_volume': 32063305.0, 'split_factor': 1.0, 'dividend': 0.0, 'symbol': 'MSFT', 'exchange': 'XNAS', 'date': '2023-12-04T00:00:00+0000'}, {'open': 376.76, 'high': 378.16, 'low': 371.31, 'close': 374.51, 'volume': 33020400.0, 'adj_high': 377.4686485959, 'adj_low': 370.6311717531, 'adj_close': 373.8187, 'adj_open': 376.0712080733, 'adj_volume': 33040472.0, 'split_factor': 1.0, 'dividend': 0.0, 'symbol': 'MSFT', 'exchange': 'XNAS', 'date': '2023-12-01T00:00:00+0000'}, {'open': 378.49, 'high': 380.09, 'low': 375.47, 'close': 378.91, 'volume': 30554400.0, 'adj_high': 379.3951201736, 'adj_low': 374.7835664489, 'adj_close': 378.2106, 'adj_open': 377.7980452906, 'adj_volume': 30554415.0, 'split_factor': 1.0, 'dividend': 0.0, 'symbol': 'MSFT', 'exchange': 'XNAS', 'date': '2023-11-30T00:00:00+0000'}, {'open': 383.76, 'high': 384.3, 'low': 377.44, 'close': 378.85, 'volume': 28963400.0, 'adj_high': 383.5974234594, 'adj_low': 376.7499648986, 'adj_close': 378.1507, 'adj_open': 383.0584106864, 'adj_volume': 28963399.0, 'split_factor': 1.0, 'dividend': 0.0, 'symbol': 'MSFT', 'exchange': 'XNAS', 'date': '2023-11-29T00:00:00+0000'}, {'open': 378.35, 'high': 383.0, 'low': 378.16, 'close': 382.7, 'volume': 20453100.0, 'adj_high': 382.299800117, 'adj_low': 377.4686485959, 'adj_close': 381.9936, 'adj_open': 377.6583012383, 'adj_volume': 20453112.0, 'split_factor': 1.0, 'dividend': 0.0, 'symbol': 'MSFT', 'exchange': 'XNAS', 'date': '2023-11-28T00:00:00+0000'}, {'open': 376.78, 'high': 380.64, 'low': 376.2, 'close': 378.61, 'volume': 22179200.0, 'adj_high': 379.9441146646, 'adj_low': 375.5122318643, 'adj_close': 377.9111, 'adj_open': 376.0911715094, 'adj_volume': 22179228.0, 'split_factor': 1.0, 'dividend': 0.0, 'symbol': 'MSFT', 'exchange': 'XNAS', 'date': '2023-11-27T00:00:00+0000'}, {'open': 377.33, 'high': 377.97, 'low': 375.14, 'close': 377.43, 'volume': 10176600.0, 'adj_high': 377.2789959536, 'adj_low': 374.4491788953, 'adj_close': 376.7333, 'adj_open': 376.6401660004, 'adj_volume': 10176649.0, 'split_factor': 1.0, 'dividend': 0.0, 'symbol': 'MSFT', 'exchange': 'XNAS', 'date': '2023-11-24T00:00:00+0000'}, {'open': 378.0, 'high': 379.79, 'low': 374.97, 'close': 377.85, 'volume': 23345300.0, 'adj_high': 379.0955688158, 'adj_low': 374.279489689, 'adj_close': 377.1526, 'adj_open': 377.3089411076, 'adj_volume': 23361184.0, 'split_factor': 1.0, 'dividend': 0.0, 'symbol': 'MSFT', 'exchange': 'XNAS', 'date': '2023-11-22T00:00:00+0000'}, {'open': 375.67, 'high': 376.22, 'low': 371.12, 'close': 373.07, 'volume': 28423100.0, 'adj_high': 375.533692558, 'adj_low': 370.4415191108, 'adj_close': 372.3814, 'adj_open': 374.9832008093, 'adj_volume': 28423145.0, 'split_factor': 1.0, 'dividend': 0.0, 'symbol': 'MSFT', 'exchange': 'XNAS', 'date': '2023-11-21T00:00:00+0000'}, {'open': 371.22, 'high': 378.87, 'low': 371.0, 'close': 377.44, 'volume': 52465100.0, 'adj_high': 378.1773505753, 'adj_low': 370.3217384945, 'adj_close': 376.7433, 'adj_open': 370.541336291, 'adj_volume': 52528964.0, 'split_factor': 1.0, 'dividend': 0.0, 'symbol': 'MSFT', 'exchange': 'XNAS', 'date': '2023-11-20T00:00:00+0000'}, {'open': 373.61, 'high': 374.37, 'low': 367.0, 'close': 369.85, 'volume': 40157000.0, 'adj_high': 373.6855774668, 'adj_low': 366.3290512871, 'adj_close': 369.1673, 'adj_open': 372.9269668974, 'adj_volume': 40325371.0, 'split_factor': 1.0, 'dividend': 0.0, 'symbol': 'MSFT', 'exchange': 'XNAS', 'date': '2023-11-17T00:00:00+0000'}, {'open': 370.96, 'high': 376.35, 'low': 370.18, 'close': 376.17, 'volume': 27182300.0, 'adj_high': 375.6619576346, 'adj_low': 369.503237617, 'adj_close': 375.4757, 'adj_open': 370.2818116225, 'adj_volume': 27182315.0, 'split_factor': 1.0, 'dividend': 0.0, 'symbol': 'MSFT', 'exchange': 'XNAS', 'date': '2023-11-16T00:00:00+0000'}, {'open': 371.28, 'high': 373.13, 'low': 367.11, 'close': 369.67, 'volume': 26860100.0, 'adj_high': 372.4478444325, 'adj_low': 366.4388501853, 'adj_close': 368.9876, 'adj_open': 370.6012265991, 'adj_volume': 26860095.0, 'split_factor': 1.0, 'dividend': 0.75, 'symbol': 'MSFT', 'exchange': 'XNAS', 'date': '2023-11-15T00:00:00+0000'}, {'open': 371.01, 'high': 371.95, 'low': 367.35, 'close': 370.27, 'volume': 27683900.0, 'adj_high': 370.5182806835, 'adj_low': 365.9314048259, 'adj_close': 368.8379, 'adj_open': 369.5818989552, 'adj_volume': 27683862.0, 'split_factor': 1.0, 'dividend': 0.0, 'symbol': 'MSFT', 'exchange': 'XNAS', 'date': '2023-11-14T00:00:00+0000'}, {'open': 368.22, 'high': 368.47, 'low': 365.9, 'close': 366.68, 'volume': 19986500.0, 'adj_high': 367.0516759872, 'adj_low': 364.491568496, 'adj_close': 365.2618, 'adj_open': 366.8026382935, 'adj_volume': 19986506.0, 'split_factor': 1.0, 'dividend': 0.0, 'symbol': 'MSFT', 'exchange': 'XNAS', 'date': '2023-11-13T00:00:00+0000'}, {'open': 361.49, 'high': 370.1, 'low': 361.07, 'close': 369.67, 'volume': 28042100.0, 'adj_high': 368.6754017501, 'adj_low': 359.6801602538, 'adj_close': 368.2402, 'adj_open': 360.0985435792, 'adj_volume': 28065164.0, 'split_factor': 1.0, 'dividend': 0.0, 'symbol': 'MSFT', 'exchange': 'XNAS', 'date': '2023-11-10T00:00:00+0000'}, {'open': 362.3, 'high': 364.79, 'low': 360.36, 'close': 360.69, 'volume': 24847300.0, 'adj_high': 363.385841136, 'adj_low': 358.9748855052, 'adj_close': 359.295, 'adj_open': 360.9054257067, 'adj_volume': 24847331.0, 'split_factor': 1.0, 'dividend': 0.0, 'symbol': 'MSFT', 'exchange': 'XNAS', 'date': '2023-11-09T00:00:00+0000'}, {'open': 361.68, 'high': 363.87, 'low': 360.55, 'close': 363.2, 'volume': 26767800.0, 'adj_high': 362.4693824232, 'adj_low': 359.1621618509, 'adj_close': 361.7953, 'adj_open': 360.2878122264, 'adj_volume': 26767828.0, 'split_factor': 1.0, 'dividend': 0.0, 'symbol': 'MSFT', 'exchange': 'XNAS', 'date': '2023-11-08T00:00:00+0000'}, {'open': 359.4, 'high': 362.46, 'low': 357.63, 'close': 360.53, 'volume': 25833900.0, 'adj_high': 361.0648098307, 'adj_low': 356.2534015885, 'adj_close': 359.1356, 'adj_open': 358.0165884599, 'adj_volume': 25833931.0, 'split_factor': 1.0, 'dividend': 0.0, 'symbol': 'MSFT', 'exchange': 'XNAS', 'date': '2023-11-07T00:00:00+0000'}, {'open': 353.45, 'high': 357.54, 'low': 353.35, 'close': 356.53, 'volume': 23828300.0, 'adj_high': 356.1637480187, 'adj_low': 351.9898762724, 'adj_close': 355.1511, 'adj_open': 352.0894913498, 'adj_volume': 23828301.0, 'split_factor': 1.0, 'dividend': 0.0, 'symbol': 'MSFT', 'exchange': 'XNAS', 'date': '2023-11-06T00:00:00+0000'}, {'open': 349.63, 'high': 354.39, 'low': 347.33, 'close': 352.8, 'volume': 23624000.0, 'adj_high': 353.0258730782, 'adj_low': 345.9930486081, 'adj_close': 351.4355, 'adj_open': 348.2841953901, 'adj_volume': 23637673.0, 'split_factor': 1.0, 'dividend': 0.0, 'symbol': 'MSFT', 'exchange': 'XNAS', 'date': '2023-11-03T00:00:00+0000'}]}}\n"
     ]
    }
   ],
   "source": [
    "from marketstack import StockPriceFetcher\n",
    "\n",
    "#----- Stock Price Fetcher ------\n",
    "fetcher = StockPriceFetcher('msft')  # Fetch end of day data for Microsoft\n",
    "fetcher.fetch_price()"
   ]
  },
  {
   "cell_type": "markdown",
   "metadata": {},
   "source": [
    "# Crypto API"
   ]
  },
  {
   "cell_type": "code",
   "execution_count": 1,
   "metadata": {},
   "outputs": [
    {
     "name": "stdout",
     "output_type": "stream",
     "text": [
      "Number of cryptocurrencies: 3119\n",
      "CSV file saved successfully\n"
     ]
    }
   ],
   "source": [
    "from crypto_api import CryptoAPI\n",
    "\n",
    "api = CryptoAPI()\n",
    "api.get_crypto_listings()\n",
    "api.save_crypto_listings_to_csv()"
   ]
  },
  {
   "cell_type": "code",
   "execution_count": null,
   "metadata": {},
   "outputs": [],
   "source": []
  }
 ],
 "metadata": {
  "kernelspec": {
   "display_name": "venv",
   "language": "python",
   "name": "python3"
  },
  "language_info": {
   "codemirror_mode": {
    "name": "ipython",
    "version": 3
   },
   "file_extension": ".py",
   "mimetype": "text/x-python",
   "name": "python",
   "nbconvert_exporter": "python",
   "pygments_lexer": "ipython3",
   "version": "3.12.2"
  }
 },
 "nbformat": 4,
 "nbformat_minor": 2
}
